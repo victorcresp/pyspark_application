{
  "nbformat": 4,
  "nbformat_minor": 0,
  "metadata": {
    "colab": {
      "provenance": []
    },
    "kernelspec": {
      "name": "python3",
      "display_name": "Python 3"
    },
    "language_info": {
      "name": "python"
    }
  },
  "cells": [
    {
      "cell_type": "code",
      "execution_count": 3,
      "metadata": {
        "colab": {
          "base_uri": "https://localhost:8080/"
        },
        "id": "S6xp0T25ry5t",
        "outputId": "3cbfc442-73de-4089-bede-3338f686366e"
      },
      "outputs": [
        {
          "output_type": "stream",
          "name": "stdout",
          "text": [
            "root\n",
            " |-- School_Year: string (nullable = true)\n",
            " |-- Busbreakdown_ID: integer (nullable = true)\n",
            " |-- Run_Type: string (nullable = true)\n",
            " |-- Bus_No: string (nullable = true)\n",
            " |-- Route_Number: string (nullable = true)\n",
            " |-- Reason: string (nullable = true)\n",
            " |-- Schools_Serviced: string (nullable = true)\n",
            " |-- Occurred_On: timestamp (nullable = true)\n",
            " |-- Created_On: timestamp (nullable = true)\n",
            " |-- Boro: string (nullable = true)\n",
            " |-- Bus_Company_Name: string (nullable = true)\n",
            " |-- How_Long_Delayed: string (nullable = true)\n",
            " |-- Number_Of_Students_On_The_Bus: integer (nullable = true)\n",
            " |-- Has_Contractor_Notified_Schools: string (nullable = true)\n",
            " |-- Has_Contractor_Notified_Parents: string (nullable = true)\n",
            " |-- Have_You_Alerted_OPT: string (nullable = true)\n",
            " |-- Informed_On: timestamp (nullable = true)\n",
            " |-- Incident_Number: string (nullable = true)\n",
            " |-- Last_Updated_On: timestamp (nullable = true)\n",
            " |-- Breakdown_or_Running_Late: string (nullable = true)\n",
            " |-- School_Age_or_PreK: string (nullable = true)\n",
            "\n"
          ]
        }
      ],
      "source": [
        "#Criação da sessão PySpark e leitura do dataset 'bus-breakdown-and-delays.csv'\n",
        "\n",
        "from pyspark.sql import SparkSession\n",
        "\n",
        "spark = SparkSession.builder.appName('Projeto_Engenharia_Dados_PySpark').getOrCreate()\n",
        "\n",
        "file = '/content/bus-breakdown-and-delays.csv'\n",
        "\n",
        "df = spark.read.csv(file, header = True, inferSchema = True)\n",
        "\n",
        "#df.show(3) Github não permite visualizar o DataFrame total, ocorre a quebra de linhas.\n",
        "df.printSchema()\n",
        "\n"
      ]
    },
    {
      "cell_type": "code",
      "source": [
        "#Organizando os dados que serão utilizados na análise\n",
        "\n",
        "#Running Late e Breakdown por empresa\n",
        "df_filtrado = df.groupBy('Bus_Company_Name', 'Breakdown_or_Running_Late').count()\n",
        "df_filtrado = df_filtrado.groupBy('Bus_Company_Name').pivot('Breakdown_or_Running_Late', ['Breakdown', 'Running Late']).sum('count')\n",
        "\n",
        "#Has_Contractor_Notified_Schools (Yer ou No) por empresa\n",
        "df_filtrado_02 =  df.groupBy('Bus_Company_Name', 'Has_Contractor_Notified_Schools').count()\n",
        "df_filtrado_02 = df_filtrado_02.groupBy('Bus_Company_Name').pivot('Has_Contractor_Notified_Schools', ['Yes', 'No']).sum('count')\n",
        "\n",
        "#Has_Contractor_Notified_Parents (Yer ou No) por empresa\n",
        "df_filtrado_03 = df.groupBy('Bus_Company_Name', 'Has_Contractor_Notified_Parents').count()\n",
        "df_filtrado_03 = df_filtrado_03.groupBy('Bus_Company_Name').pivot('Has_Contractor_Notified_Parents', ['Yes', 'No']).sum('count')\n",
        "\n",
        "#Have_You_Alerted_OPT (Yer ou No) por empresa\n",
        "df_filtrado_04 = df.groupBy('Bus_Company_Name', 'Have_You_Alerted_OPT').count()\n",
        "df_filtrado_04 = df_filtrado_04.groupBy('Bus_Company_Name').pivot('Have_You_Alerted_OPT', ['Yes', 'No']).sum('count')\n",
        "\n",
        "#Total de ocorrências de cada empresa\n",
        "df_total = df.groupBy('Bus_Company_Name').count()\n",
        "df_total.show() #Neste caso as colunas não extrapolam o limite da tela\n"
      ],
      "metadata": {
        "colab": {
          "base_uri": "https://localhost:8080/"
        },
        "id": "RDmKZ26Ft055",
        "outputId": "d6f66989-e931-43a7-8ff3-983071736697"
      },
      "execution_count": null,
      "outputs": [
        {
          "output_type": "stream",
          "name": "stdout",
          "text": [
            "+--------------------+-----+\n",
            "|    Bus_Company_Name|count|\n",
            "+--------------------+-----+\n",
            "|         SNT BUS INC| 9647|\n",
            "|Y & M TRANSIT COR...|   95|\n",
            "|TWENTY FIRST AV T...|  888|\n",
            "|MUTUAL BUS CORP. ...|  422|\n",
            "|DON THOMAS BUSES,...| 3770|\n",
            "|              ADDIES|   24|\n",
            "|ALINA SERVICES CORP.|  570|\n",
            "|B & F SKILLED INC...| 3950|\n",
            "|LORINDA ENTERPRIS...| 2348|\n",
            "|CAREFUL BUS SERVI...|  102|\n",
            "|CONSOLIDATED BUS ...| 2173|\n",
            "|RELIANT TRANS, IN...| 5743|\n",
            "|GRANDPA`S BUS CO....| 3829|\n",
            "|          SMART PICK|  288|\n",
            "|ALLIED TRANSIT CORP.| 7435|\n",
            "|PRIDE TRANSPORTAT...| 2417|\n",
            "|       VAN TRANS LLC|  128|\n",
            "|         FIRST STEPS|  309|\n",
            "|CAREFUL BUS SERVI...|  806|\n",
            "|VINNY`S BUS SERVI...|   20|\n",
            "+--------------------+-----+\n",
            "only showing top 20 rows\n",
            "\n"
          ]
        }
      ]
    },
    {
      "cell_type": "code",
      "source": [
        "#Organizando todos os dados filtrados em um único DataSet\n",
        "\n",
        "df_bus_dados = df_filtrado.join(df_filtrado_02, 'Bus_Company_Name').withColumnRenamed('Yes', 'Notified_School_Yes') \\\n",
        "  .withColumnRenamed('No', 'Notified_School_No')\n",
        "df_bus_dados = df_bus_dados.join(df_filtrado_03, 'Bus_Company_Name').withColumnRenamed('Yes', 'Notified_Parents_Yes') \\\n",
        "  .withColumnRenamed('No', 'Notified_Parents_No')\n",
        "df_bus_dados = df_bus_dados.join(df_filtrado_04, 'Bus_Company_Name').withColumnRenamed('Yes', 'Alert_OPT_Yes') \\\n",
        "  .withColumnRenamed('No', 'Alert_OPT_No')\n",
        "df_bus_dados = df_bus_dados.join(df_total, 'Bus_Company_Name').withColumnRenamed('count', 'Total_Ocorrencias')\n",
        "#df_bus_dados.show(truncate = False) Github não permite visualizar o DataFrame total, ocorre a quebra de linhas."
      ],
      "metadata": {
        "colab": {
          "base_uri": "https://localhost:8080/"
        },
        "id": "aq2Nwp2Mz1mA",
        "outputId": "a1a0876b-eb8b-4854-a9d8-55c3775e264e"
      },
      "execution_count": null,
      "outputs": [
        {
          "output_type": "stream",
          "name": "stdout",
          "text": [
            "+---------------------------+---------+------------+-------------------+------------------+--------------------+-------------------+-------------+------------+-----------------+\n",
            "|Bus_Company_Name           |Breakdown|Running Late|Notified_School_Yes|Notified_School_No|Notified_Parents_Yes|Notified_Parents_No|Alert_OPT_Yes|Alert_OPT_No|Total_Ocorrencias|\n",
            "+---------------------------+---------+------------+-------------------+------------------+--------------------+-------------------+-------------+------------+-----------------+\n",
            "|SNT BUS INC                |1324     |8323        |8845               |802               |1774                |7873               |2232         |7415        |9647             |\n",
            "|Y & M TRANSIT CORP (B2321) |8        |87          |89                 |6                 |85                  |10                 |2            |93          |95               |\n",
            "|TWENTY FIRST AV TRANSP (B  |134      |754         |576                |312               |736                 |152                |133          |755         |888              |\n",
            "|MUTUAL BUS CORP. (B2321)   |47       |375         |400                |22                |57                  |365                |24           |398         |422              |\n",
            "|DON THOMAS BUSES, INC.     |48       |3722        |3725               |45                |3703                |67                 |17           |3753        |3770             |\n",
            "|ADDIES                     |5        |19          |24                 |NULL              |14                  |10                 |2            |22          |24               |\n",
            "|LORINDA ENTERPRISES, LTD.  |848      |1500        |1643               |705               |1659                |689                |10           |2338        |2348             |\n",
            "|ALINA SERVICES CORP.       |78       |492         |530                |40                |519                 |51                 |474          |96          |570              |\n",
            "|B & F SKILLED INC.(B2192)  |35       |3915        |3578               |372               |3622                |328                |2230         |1720        |3950             |\n",
            "|GVC                        |NULL     |4           |4                  |NULL              |4                   |NULL               |4            |NULL        |4                |\n",
            "|CAREFUL BUS SERVICE INC (  |4        |98          |98                 |4                 |29                  |73                 |2            |100         |102              |\n",
            "|CONSOLIDATED BUS TRANS. I  |146      |2027        |2080               |93                |1916                |257                |1570         |603         |2173             |\n",
            "|RELIANT TRANS, INC. (B2321)|474      |5269        |5691               |52                |5600                |143                |5683         |60          |5743             |\n",
            "|GRANDPA`S BUS CO., INC.    |1883     |1946        |3435               |394               |1993                |1836               |52           |3777        |3829             |\n",
            "|SMART PICK                 |31       |257         |262                |26                |257                 |31                 |30           |258         |288              |\n",
            "|Ms.                        |NULL     |1           |1                  |NULL              |1                   |NULL               |1            |NULL        |1                |\n",
            "|GVC LTD.                   |NULL     |6           |6                  |NULL              |6                   |NULL               |6            |NULL        |6                |\n",
            "|ALLIED TRANSIT CORP.       |159      |7276        |7057               |378               |6357                |1078               |17           |7418        |7435             |\n",
            "|PRIDE TRANSPORTATION (SCH  |291      |2126        |2348               |69                |2304                |113                |1574         |843         |2417             |\n",
            "|VAN TRANS LLC              |8        |120         |126                |2                 |122                 |6                  |126          |2           |128              |\n",
            "+---------------------------+---------+------------+-------------------+------------------+--------------------+-------------------+-------------+------------+-----------------+\n",
            "only showing top 20 rows\n",
            "\n"
          ]
        }
      ]
    },
    {
      "cell_type": "code",
      "source": [
        "#Substituindo 'NULL' por 0\n",
        "df_bus_dados = df_bus_dados.fillna(0)\n",
        "df_bus_dados.show() #Github não permite visualizar o DataFrame total, ocorre a quebra de linhas."
      ],
      "metadata": {
        "colab": {
          "base_uri": "https://localhost:8080/"
        },
        "id": "ILlJgdqf1BBr",
        "outputId": "6d81a5d6-c0ac-454f-ab0c-fc9c4d97b50e"
      },
      "execution_count": null,
      "outputs": [
        {
          "output_type": "stream",
          "name": "stdout",
          "text": [
            "+--------------------+---------+------------+-------------------+------------------+--------------------+-------------------+-------------+------------+-----------------+\n",
            "|    Bus_Company_Name|Breakdown|Running Late|Notified_School_Yes|Notified_School_No|Notified_Parents_Yes|Notified_Parents_No|Alert_OPT_Yes|Alert_OPT_No|Total_Ocorrencias|\n",
            "+--------------------+---------+------------+-------------------+------------------+--------------------+-------------------+-------------+------------+-----------------+\n",
            "|         SNT BUS INC|     1324|        8323|               8845|               802|                1774|               7873|         2232|        7415|             9647|\n",
            "|Y & M TRANSIT COR...|        8|          87|                 89|                 6|                  85|                 10|            2|          93|               95|\n",
            "|TWENTY FIRST AV T...|      134|         754|                576|               312|                 736|                152|          133|         755|              888|\n",
            "|MUTUAL BUS CORP. ...|       47|         375|                400|                22|                  57|                365|           24|         398|              422|\n",
            "|DON THOMAS BUSES,...|       48|        3722|               3725|                45|                3703|                 67|           17|        3753|             3770|\n",
            "|              ADDIES|        5|          19|                 24|                 0|                  14|                 10|            2|          22|               24|\n",
            "|LORINDA ENTERPRIS...|      848|        1500|               1643|               705|                1659|                689|           10|        2338|             2348|\n",
            "|B & F SKILLED INC...|       35|        3915|               3578|               372|                3622|                328|         2230|        1720|             3950|\n",
            "|ALINA SERVICES CORP.|       78|         492|                530|                40|                 519|                 51|          474|          96|              570|\n",
            "|                 GVC|        0|           4|                  4|                 0|                   4|                  0|            4|           0|                4|\n",
            "|CAREFUL BUS SERVI...|        4|          98|                 98|                 4|                  29|                 73|            2|         100|              102|\n",
            "|CONSOLIDATED BUS ...|      146|        2027|               2080|                93|                1916|                257|         1570|         603|             2173|\n",
            "|RELIANT TRANS, IN...|      474|        5269|               5691|                52|                5600|                143|         5683|          60|             5743|\n",
            "|GRANDPA`S BUS CO....|     1883|        1946|               3435|               394|                1993|               1836|           52|        3777|             3829|\n",
            "|          SMART PICK|       31|         257|                262|                26|                 257|                 31|           30|         258|              288|\n",
            "|                 Ms.|        0|           1|                  1|                 0|                   1|                  0|            1|           0|                1|\n",
            "|            GVC LTD.|        0|           6|                  6|                 0|                   6|                  0|            6|           0|                6|\n",
            "|PRIDE TRANSPORTAT...|      291|        2126|               2348|                69|                2304|                113|         1574|         843|             2417|\n",
            "|ALLIED TRANSIT CORP.|      159|        7276|               7057|               378|                6357|               1078|           17|        7418|             7435|\n",
            "|       VAN TRANS LLC|        8|         120|                126|                 2|                 122|                  6|          126|           2|              128|\n",
            "+--------------------+---------+------------+-------------------+------------------+--------------------+-------------------+-------------+------------+-----------------+\n",
            "only showing top 20 rows\n",
            "\n"
          ]
        }
      ]
    },
    {
      "cell_type": "code",
      "source": [
        "#Salvando os dados tratados e filtrados em um arquivo parquet.\n",
        "\n",
        "df_bus_dados.write.parquet('bus_dados_df_parquet')"
      ],
      "metadata": {
        "id": "ktpkwrGd5Jl1"
      },
      "execution_count": null,
      "outputs": []
    }
  ]
}