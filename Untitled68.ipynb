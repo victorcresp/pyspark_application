{
  "nbformat": 4,
  "nbformat_minor": 0,
  "metadata": {
    "colab": {
      "provenance": []
    },
    "kernelspec": {
      "name": "python3",
      "display_name": "Python 3"
    },
    "language_info": {
      "name": "python"
    }
  },
  "cells": [
    {
      "cell_type": "code",
      "execution_count": 2,
      "metadata": {
        "colab": {
          "base_uri": "https://localhost:8080/"
        },
        "id": "S6xp0T25ry5t",
        "outputId": "ee0063f8-900c-481d-d13a-18c7fe86011b"
      },
      "outputs": [
        {
          "output_type": "stream",
          "name": "stdout",
          "text": [
            "+-----------+---------------+-----------------+-------+------------+-------------+----------------+-------------------+-------------------+---------------+--------------------+----------------+-----------------------------+-------------------------------+-------------------------------+--------------------+-------------------+---------------+-------------------+-------------------------+------------------+\n",
            "|School_Year|Busbreakdown_ID|         Run_Type| Bus_No|Route_Number|       Reason|Schools_Serviced|        Occurred_On|         Created_On|           Boro|    Bus_Company_Name|How_Long_Delayed|Number_Of_Students_On_The_Bus|Has_Contractor_Notified_Schools|Has_Contractor_Notified_Parents|Have_You_Alerted_OPT|        Informed_On|Incident_Number|    Last_Updated_On|Breakdown_or_Running_Late|School_Age_or_PreK|\n",
            "+-----------+---------------+-----------------+-------+------------+-------------+----------------+-------------------+-------------------+---------------+--------------------+----------------+-----------------------------+-------------------------------+-------------------------------+--------------------+-------------------+---------------+-------------------+-------------------------+------------------+\n",
            "|  2015-2016|        1227538|Special Ed AM Run|   2621|        J711|Heavy Traffic|           75003|2015-11-05 08:10:00|2015-11-05 08:12:00|     New Jersey|RELIANT TRANS, IN...|            NULL|                           11|                            Yes|                             No|                 Yes|2015-11-05 08:12:00|           NULL|2015-11-05 08:12:14|             Running Late|        School-Age|\n",
            "|  2015-2016|        1227539|Special Ed AM Run|   1260|        M351|Heavy Traffic|           06716|2015-11-05 08:10:00|2015-11-05 08:12:00|      Manhattan|HOYT TRANSPORTATI...|           20MNS|                            2|                            Yes|                            Yes|                  No|2015-11-05 08:12:00|           NULL|2015-11-05 08:13:34|             Running Late|        School-Age|\n",
            "|  2015-2016|        1227540|         Pre-K/EI|    418|           3|Heavy Traffic|            C445|2015-11-05 08:09:00|2015-11-05 08:13:00|          Bronx|        G.V.C., LTD.|           15MIN|                            8|                            Yes|                            Yes|                 Yes|2015-11-05 08:13:00|           NULL|2015-11-05 08:13:22|             Running Late|             Pre-K|\n",
            "|  2015-2016|        1227541|Special Ed AM Run|   4522|        M271|Heavy Traffic|           02699|2015-11-05 08:12:00|2015-11-05 08:14:00|      Manhattan|RELIANT TRANS, IN...|          15 MIN|                            6|                             No|                             No|                  No|2015-11-05 08:14:00|           NULL|2015-11-05 08:14:04|             Running Late|        School-Age|\n",
            "|  2015-2016|        1227542|Special Ed AM Run|   3124|        M373|Heavy Traffic|           02116|2015-11-05 08:13:00|2015-11-05 08:14:00|      Manhattan|RELIANT TRANS, IN...|            NULL|                            6|                             No|                             No|                  No|2015-11-05 08:14:00|           NULL|2015-11-05 08:14:08|             Running Late|        School-Age|\n",
            "|  2015-2016|        1227543|Special Ed AM Run| HT1502|        W796|Heavy Traffic|           75407|2015-11-05 07:58:00|2015-11-05 08:14:00|    Westchester|CHILDREN`S TRANS ...|          30 min|                            1|                            Yes|                            Yes|                 Yes|2015-11-05 08:14:00|           NULL|2015-11-05 08:14:15|             Running Late|        School-Age|\n",
            "|  2015-2016|        1227544|Special Ed AM Run|    142|        W633|Heavy Traffic|           75670|2015-11-05 08:24:00|2015-11-05 08:15:00|    Westchester|MAR-CAN TRANSPORT...|          20MINS|                            3|                            Yes|                             No|                  No|2015-11-05 08:15:00|           NULL|2015-11-05 08:16:53|             Running Late|        School-Age|\n",
            "|  2015-2016|        1227545|Special Ed AM Run|   1417|        M678|Heavy Traffic|           03417|2015-11-05 08:15:00|2015-11-05 08:16:00|      Manhattan|LEESEL TRANSP COR...|              15|                            3|                            Yes|                            Yes|                  No|2015-11-05 08:16:00|           NULL|2015-11-05 08:16:22|             Running Late|        School-Age|\n",
            "|  2015-2016|        1227546|Special Ed AM Run|  56102|        M126|Heavy Traffic|           01450|2015-11-05 07:55:00|2015-11-05 08:17:00|      Manhattan|CONSOLIDATED BUS ...|         30 mins|                            5|                            Yes|                            Yes|                 Yes|2015-11-05 08:17:00|           NULL|2015-11-05 08:17:07|             Running Late|        School-Age|\n",
            "|  2015-2016|        1227547|Special Ed AM Run|   1344|        M922|Heavy Traffic|           02930|2015-11-05 08:16:00|2015-11-05 08:17:00|      Manhattan|LEESEL TRANSP COR...|              20|                            3|                            Yes|                            Yes|                  No|2015-11-05 08:17:00|           NULL|2015-11-05 08:17:03|             Running Late|        School-Age|\n",
            "|  2015-2016|        1227551|Special Ed AM Run|   1358|        M490|Heavy Traffic|           03004|2015-11-05 08:19:00|2015-11-05 08:20:00|      Manhattan|LEESEL TRANSP COR...|              20|                            3|                            Yes|                            Yes|                  No|2015-11-05 08:20:00|           NULL|2015-11-05 08:20:09|             Running Late|        School-Age|\n",
            "|  2015-2016|        1227553|         Pre-K/EI|    899|          10|Heavy Traffic|            C601|2015-11-05 08:19:00|2015-11-05 08:20:00|          Bronx|        G.V.C., LTD.|         30 MINS|                           13|                            Yes|                            Yes|                  No|2015-11-05 08:20:00|           NULL|2015-11-05 08:20:42|             Running Late|             Pre-K|\n",
            "|  2015-2016|        1227554|Special Ed AM Run|    600|        P877|Heavy Traffic|           24008|2015-11-05 08:18:00|2015-11-05 08:20:00|       Brooklyn|HAPPY CHILD TRANS...|          30 MIN|                            4|                            Yes|                             No|                  No|2015-11-05 08:20:00|           NULL|2015-11-05 08:20:56|             Running Late|        School-Age|\n",
            "|  2015-2016|        1227555|Special Ed AM Run| GT1482|        U901|Heavy Traffic|           75661|2015-11-05 08:01:00|2015-11-05 08:22:00|Rockland County|DON THOMAS BUSES,...|          15 MIN|                            1|                            Yes|                            Yes|                 Yes|2015-11-05 08:22:00|           NULL|2015-11-05 08:22:01|             Running Late|        School-Age|\n",
            "|  2015-2016|        1227556|Special Ed AM Run|    855|        N588|Heavy Traffic|           75911|2015-11-05 08:20:00|2015-11-05 08:22:00|  Nassau County|LOGAN BUS COMPANY...|         40 MIIN|                            2|                            Yes|                            Yes|                  No|2015-11-05 08:22:00|           NULL|2015-11-05 08:22:53|             Running Late|        School-Age|\n",
            "|  2015-2016|        1227557|Special Ed AM Run|EL 1005|        W991|Heavy Traffic|           75716|2015-11-05 08:22:00|2015-11-05 08:24:00|    Westchester|ALL COUNTY BUS LL...|          10 min|                            3|                            Yes|                             No|                  No|2015-11-05 08:24:00|           NULL|2015-11-05 08:24:53|             Running Late|        School-Age|\n",
            "|  2015-2016|        1227558|Special Ed AM Run|   2052|        L524|    Flat Tire|           17246|2015-11-05 08:22:00|2015-11-05 08:25:00|           NULL|RELIANT TRANS, IN...|            NULL|                            4|                            Yes|                            Yes|                 Yes|2015-11-05 08:25:00|           NULL|2015-11-05 08:25:11|             Running Late|        School-Age|\n",
            "|  2015-2016|        1227560|Special Ed AM Run|   1205|        P662|Heavy Traffic|           29059|2015-11-05 06:45:00|2015-11-05 08:26:00|           NULL|ACME BUS CORP. (B...|          15 min|                            0|                            Yes|                            Yes|                 Yes|2015-11-05 08:26:00|           NULL|2015-11-05 08:26:22|             Running Late|        School-Age|\n",
            "|  2015-2016|        1227561|Special Ed AM Run|   2508|        L531|Heavy Traffic|           13009|2015-11-05 08:25:00|2015-11-05 08:26:00|          Bronx|RELIANT TRANS, IN...|            NULL|                            4|                             No|                             No|                  No|2015-11-05 08:26:00|           NULL|2015-11-05 08:26:54|             Running Late|        School-Age|\n",
            "|  2015-2016|        1227564|         Pre-K/EI|    340|           8|Heavy Traffic|            C353|2015-11-05 08:28:00|2015-11-05 08:30:00|          Bronx|        G.V.C., LTD.|           10MIN|                            5|                            Yes|                            Yes|                 Yes|2015-11-05 08:30:00|           NULL|2015-11-05 08:30:28|             Running Late|             Pre-K|\n",
            "+-----------+---------------+-----------------+-------+------------+-------------+----------------+-------------------+-------------------+---------------+--------------------+----------------+-----------------------------+-------------------------------+-------------------------------+--------------------+-------------------+---------------+-------------------+-------------------------+------------------+\n",
            "only showing top 20 rows\n",
            "\n"
          ]
        }
      ],
      "source": [
        "#Criação da sessão PySpark e leitura do dataset 'bus-breakdown-and-delays.csv'\n",
        "\n",
        "from pyspark.sql import SparkSession\n",
        "\n",
        "spark = SparkSession.builder.appName('Projeto_Engenharia_Dados_PySpark').getOrCreate()\n",
        "\n",
        "file = '/content/bus-breakdown-and-delays.csv'\n",
        "\n",
        "df = spark.read.csv(file, header = True, inferSchema = True)\n",
        "\n",
        "df.show()\n",
        "\n"
      ]
    },
    {
      "cell_type": "code",
      "source": [
        "#Organizando os dados que serão utilizados na análise\n",
        "\n",
        "#Running Late e Breakdown por empresa\n",
        "df_filtrado = df.groupBy('Bus_Company_Name', 'Breakdown_or_Running_Late').count()\n",
        "df_filtrado = df_filtrado.groupBy('Bus_Company_Name').pivot('Breakdown_or_Running_Late', ['Breakdown', 'Running Late']).sum('count')\n",
        "\n",
        "#Has_Contractor_Notified_Schools (Yer ou No) por empresa\n",
        "df_filtrado_02 =  df.groupBy('Bus_Company_Name', 'Has_Contractor_Notified_Schools').count()\n",
        "df_filtrado_02 = df_filtrado_02.groupBy('Bus_Company_Name').pivot('Has_Contractor_Notified_Schools', ['Yes', 'No']).sum('count')\n",
        "\n",
        "#Has_Contractor_Notified_Parents (Yer ou No) por empresa\n",
        "df_filtrado_03 = df.groupBy('Bus_Company_Name', 'Has_Contractor_Notified_Parents').count()\n",
        "df_filtrado_03 = df_filtrado_03.groupBy('Bus_Company_Name').pivot('Has_Contractor_Notified_Parents', ['Yes', 'No']).sum('count')\n",
        "\n",
        "#Have_You_Alerted_OPT (Yer ou No) por empresa\n",
        "df_filtrado_04 = df.groupBy('Bus_Company_Name', 'Have_You_Alerted_OPT').count()\n",
        "df_filtrado_04 = df_filtrado_04.groupBy('Bus_Company_Name').pivot('Have_You_Alerted_OPT', ['Yes', 'No']).sum('count')\n",
        "\n",
        "#Total de ocorrências de cada empresa\n",
        "df_total = df.groupBy('Bus_Company_Name').count()\n",
        "df_total.show()\n"
      ],
      "metadata": {
        "colab": {
          "base_uri": "https://localhost:8080/"
        },
        "collapsed": true,
        "id": "RDmKZ26Ft055",
        "outputId": "d6f66989-e931-43a7-8ff3-983071736697"
      },
      "execution_count": 50,
      "outputs": [
        {
          "output_type": "stream",
          "name": "stdout",
          "text": [
            "+--------------------+-----+\n",
            "|    Bus_Company_Name|count|\n",
            "+--------------------+-----+\n",
            "|         SNT BUS INC| 9647|\n",
            "|Y & M TRANSIT COR...|   95|\n",
            "|TWENTY FIRST AV T...|  888|\n",
            "|MUTUAL BUS CORP. ...|  422|\n",
            "|DON THOMAS BUSES,...| 3770|\n",
            "|              ADDIES|   24|\n",
            "|ALINA SERVICES CORP.|  570|\n",
            "|B & F SKILLED INC...| 3950|\n",
            "|LORINDA ENTERPRIS...| 2348|\n",
            "|CAREFUL BUS SERVI...|  102|\n",
            "|CONSOLIDATED BUS ...| 2173|\n",
            "|RELIANT TRANS, IN...| 5743|\n",
            "|GRANDPA`S BUS CO....| 3829|\n",
            "|          SMART PICK|  288|\n",
            "|ALLIED TRANSIT CORP.| 7435|\n",
            "|PRIDE TRANSPORTAT...| 2417|\n",
            "|       VAN TRANS LLC|  128|\n",
            "|         FIRST STEPS|  309|\n",
            "|CAREFUL BUS SERVI...|  806|\n",
            "|VINNY`S BUS SERVI...|   20|\n",
            "+--------------------+-----+\n",
            "only showing top 20 rows\n",
            "\n"
          ]
        }
      ]
    },
    {
      "cell_type": "code",
      "source": [
        "#Organizando todos os dados filtrados em um único DataSet\n",
        "\n",
        "df_bus_dados = df_filtrado.join(df_filtrado_02, 'Bus_Company_Name').withColumnRenamed('Yes', 'Notified_School_Yes') \\\n",
        "  .withColumnRenamed('No', 'Notified_School_No')\n",
        "df_bus_dados = df_bus_dados.join(df_filtrado_03, 'Bus_Company_Name').withColumnRenamed('Yes', 'Notified_Parents_Yes') \\\n",
        "  .withColumnRenamed('No', 'Notified_Parents_No')\n",
        "df_bus_dados = df_bus_dados.join(df_filtrado_04, 'Bus_Company_Name').withColumnRenamed('Yes', 'Alert_OPT_Yes') \\\n",
        "  .withColumnRenamed('No', 'Alert_OPT_No')\n",
        "df_bus_dados = df_bus_dados.join(df_total, 'Bus_Company_Name').withColumnRenamed('count', 'Total_Ocorrencias')\n",
        "df_bus_dados.show(truncate = False)"
      ],
      "metadata": {
        "colab": {
          "base_uri": "https://localhost:8080/"
        },
        "id": "aq2Nwp2Mz1mA",
        "outputId": "a1a0876b-eb8b-4854-a9d8-55c3775e264e"
      },
      "execution_count": 51,
      "outputs": [
        {
          "output_type": "stream",
          "name": "stdout",
          "text": [
            "+---------------------------+---------+------------+-------------------+------------------+--------------------+-------------------+-------------+------------+-----------------+\n",
            "|Bus_Company_Name           |Breakdown|Running Late|Notified_School_Yes|Notified_School_No|Notified_Parents_Yes|Notified_Parents_No|Alert_OPT_Yes|Alert_OPT_No|Total_Ocorrencias|\n",
            "+---------------------------+---------+------------+-------------------+------------------+--------------------+-------------------+-------------+------------+-----------------+\n",
            "|SNT BUS INC                |1324     |8323        |8845               |802               |1774                |7873               |2232         |7415        |9647             |\n",
            "|Y & M TRANSIT CORP (B2321) |8        |87          |89                 |6                 |85                  |10                 |2            |93          |95               |\n",
            "|TWENTY FIRST AV TRANSP (B  |134      |754         |576                |312               |736                 |152                |133          |755         |888              |\n",
            "|MUTUAL BUS CORP. (B2321)   |47       |375         |400                |22                |57                  |365                |24           |398         |422              |\n",
            "|DON THOMAS BUSES, INC.     |48       |3722        |3725               |45                |3703                |67                 |17           |3753        |3770             |\n",
            "|ADDIES                     |5        |19          |24                 |NULL              |14                  |10                 |2            |22          |24               |\n",
            "|LORINDA ENTERPRISES, LTD.  |848      |1500        |1643               |705               |1659                |689                |10           |2338        |2348             |\n",
            "|ALINA SERVICES CORP.       |78       |492         |530                |40                |519                 |51                 |474          |96          |570              |\n",
            "|B & F SKILLED INC.(B2192)  |35       |3915        |3578               |372               |3622                |328                |2230         |1720        |3950             |\n",
            "|GVC                        |NULL     |4           |4                  |NULL              |4                   |NULL               |4            |NULL        |4                |\n",
            "|CAREFUL BUS SERVICE INC (  |4        |98          |98                 |4                 |29                  |73                 |2            |100         |102              |\n",
            "|CONSOLIDATED BUS TRANS. I  |146      |2027        |2080               |93                |1916                |257                |1570         |603         |2173             |\n",
            "|RELIANT TRANS, INC. (B2321)|474      |5269        |5691               |52                |5600                |143                |5683         |60          |5743             |\n",
            "|GRANDPA`S BUS CO., INC.    |1883     |1946        |3435               |394               |1993                |1836               |52           |3777        |3829             |\n",
            "|SMART PICK                 |31       |257         |262                |26                |257                 |31                 |30           |258         |288              |\n",
            "|Ms.                        |NULL     |1           |1                  |NULL              |1                   |NULL               |1            |NULL        |1                |\n",
            "|GVC LTD.                   |NULL     |6           |6                  |NULL              |6                   |NULL               |6            |NULL        |6                |\n",
            "|ALLIED TRANSIT CORP.       |159      |7276        |7057               |378               |6357                |1078               |17           |7418        |7435             |\n",
            "|PRIDE TRANSPORTATION (SCH  |291      |2126        |2348               |69                |2304                |113                |1574         |843         |2417             |\n",
            "|VAN TRANS LLC              |8        |120         |126                |2                 |122                 |6                  |126          |2           |128              |\n",
            "+---------------------------+---------+------------+-------------------+------------------+--------------------+-------------------+-------------+------------+-----------------+\n",
            "only showing top 20 rows\n",
            "\n"
          ]
        }
      ]
    },
    {
      "cell_type": "code",
      "source": [
        "#Substituindo 'NULL' por 0\n",
        "df_bus_dados = df_bus_dados.fillna(0)\n",
        "df_bus_dados.show()"
      ],
      "metadata": {
        "colab": {
          "base_uri": "https://localhost:8080/"
        },
        "id": "ILlJgdqf1BBr",
        "outputId": "6d81a5d6-c0ac-454f-ab0c-fc9c4d97b50e"
      },
      "execution_count": 54,
      "outputs": [
        {
          "output_type": "stream",
          "name": "stdout",
          "text": [
            "+--------------------+---------+------------+-------------------+------------------+--------------------+-------------------+-------------+------------+-----------------+\n",
            "|    Bus_Company_Name|Breakdown|Running Late|Notified_School_Yes|Notified_School_No|Notified_Parents_Yes|Notified_Parents_No|Alert_OPT_Yes|Alert_OPT_No|Total_Ocorrencias|\n",
            "+--------------------+---------+------------+-------------------+------------------+--------------------+-------------------+-------------+------------+-----------------+\n",
            "|         SNT BUS INC|     1324|        8323|               8845|               802|                1774|               7873|         2232|        7415|             9647|\n",
            "|Y & M TRANSIT COR...|        8|          87|                 89|                 6|                  85|                 10|            2|          93|               95|\n",
            "|TWENTY FIRST AV T...|      134|         754|                576|               312|                 736|                152|          133|         755|              888|\n",
            "|MUTUAL BUS CORP. ...|       47|         375|                400|                22|                  57|                365|           24|         398|              422|\n",
            "|DON THOMAS BUSES,...|       48|        3722|               3725|                45|                3703|                 67|           17|        3753|             3770|\n",
            "|              ADDIES|        5|          19|                 24|                 0|                  14|                 10|            2|          22|               24|\n",
            "|LORINDA ENTERPRIS...|      848|        1500|               1643|               705|                1659|                689|           10|        2338|             2348|\n",
            "|B & F SKILLED INC...|       35|        3915|               3578|               372|                3622|                328|         2230|        1720|             3950|\n",
            "|ALINA SERVICES CORP.|       78|         492|                530|                40|                 519|                 51|          474|          96|              570|\n",
            "|                 GVC|        0|           4|                  4|                 0|                   4|                  0|            4|           0|                4|\n",
            "|CAREFUL BUS SERVI...|        4|          98|                 98|                 4|                  29|                 73|            2|         100|              102|\n",
            "|CONSOLIDATED BUS ...|      146|        2027|               2080|                93|                1916|                257|         1570|         603|             2173|\n",
            "|RELIANT TRANS, IN...|      474|        5269|               5691|                52|                5600|                143|         5683|          60|             5743|\n",
            "|GRANDPA`S BUS CO....|     1883|        1946|               3435|               394|                1993|               1836|           52|        3777|             3829|\n",
            "|          SMART PICK|       31|         257|                262|                26|                 257|                 31|           30|         258|              288|\n",
            "|                 Ms.|        0|           1|                  1|                 0|                   1|                  0|            1|           0|                1|\n",
            "|            GVC LTD.|        0|           6|                  6|                 0|                   6|                  0|            6|           0|                6|\n",
            "|PRIDE TRANSPORTAT...|      291|        2126|               2348|                69|                2304|                113|         1574|         843|             2417|\n",
            "|ALLIED TRANSIT CORP.|      159|        7276|               7057|               378|                6357|               1078|           17|        7418|             7435|\n",
            "|       VAN TRANS LLC|        8|         120|                126|                 2|                 122|                  6|          126|           2|              128|\n",
            "+--------------------+---------+------------+-------------------+------------------+--------------------+-------------------+-------------+------------+-----------------+\n",
            "only showing top 20 rows\n",
            "\n"
          ]
        }
      ]
    },
    {
      "cell_type": "code",
      "source": [
        "#Salvando os dados tratados e filtrados em um arquivo parquet.\n",
        "\n",
        "df_bus_dados.write.parquet('bus_dados_df_parquet')"
      ],
      "metadata": {
        "id": "ktpkwrGd5Jl1"
      },
      "execution_count": 55,
      "outputs": []
    }
  ]
}